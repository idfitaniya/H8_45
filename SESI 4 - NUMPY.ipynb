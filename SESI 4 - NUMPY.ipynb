{
 "cells": [
  {
   "cell_type": "code",
   "execution_count": 1,
   "metadata": {},
   "outputs": [],
   "source": [
    "import numpy as np"
   ]
  },
  {
   "cell_type": "code",
   "execution_count": 2,
   "metadata": {},
   "outputs": [
    {
     "name": "stdout",
     "output_type": "stream",
     "text": [
      "numpy version 1.19.2\n"
     ]
    }
   ],
   "source": [
    "print(\"numpy version\", np.__version__)"
   ]
  },
  {
   "cell_type": "code",
   "execution_count": 10,
   "metadata": {},
   "outputs": [
    {
     "name": "stdout",
     "output_type": "stream",
     "text": [
      "[[1 2 3]\n",
      " [4 5 6]]\n",
      "type: <class 'numpy.ndarray'> shape: (2, 3)\n",
      "axis 0: 2 axis 1: 3\n"
     ]
    }
   ],
   "source": [
    "arr_int=np.array([[1,2,3],[4,5,6]])\n",
    "print(arr_int)\n",
    "print(\"type:\", type(arr_int),\"shape:\", arr_int.shape)\n",
    "print(\"axis 0:\", arr_int.shape[0], \"axis 1:\", arr_int.shape[1])"
   ]
  },
  {
   "cell_type": "code",
   "execution_count": 13,
   "metadata": {},
   "outputs": [
    {
     "name": "stdout",
     "output_type": "stream",
     "text": [
      "[[0. 0. 0.]\n",
      " [0. 0. 0.]] float64 <class 'numpy.ndarray'>\n"
     ]
    }
   ],
   "source": [
    "arr_zeros=np.zeros((2, 3))\n",
    "print(arr_zeros, arr_zeros.dtype, type(arr_zeros))"
   ]
  },
  {
   "cell_type": "code",
   "execution_count": 14,
   "metadata": {},
   "outputs": [
    {
     "name": "stdout",
     "output_type": "stream",
     "text": [
      "[[0. 0. 0.]\n",
      " [0. 0. 0.]] float64 <class 'numpy.ndarray'>\n"
     ]
    }
   ],
   "source": [
    "arr_ones=np.ones((2, 4))\n",
    "print(arr_zeros, arr_ones.dtype, type(arr_ones))"
   ]
  },
  {
   "cell_type": "code",
   "execution_count": 17,
   "metadata": {},
   "outputs": [
    {
     "name": "stdout",
     "output_type": "stream",
     "text": [
      "[ 1  3  5  7  9 11 13 15 17 19] int32 <class 'numpy.ndarray'>\n"
     ]
    }
   ],
   "source": [
    "arr_arange=np.arange(1, 20, 2) #loncat2\n",
    "print(arr_arange, arr_arange.dtype, type(arr_arange))"
   ]
  },
  {
   "cell_type": "code",
   "execution_count": 20,
   "metadata": {},
   "outputs": [
    {
     "name": "stdout",
     "output_type": "stream",
     "text": [
      "[[7.96260375e-312 7.96256176e-312 6.95250701e-310 ... 3.36700284e-290\n",
      "              nan 2.08600674e-308]\n",
      " [8.01025914e-307             nan 1.66880539e-308 ...             nan\n",
      "              nan 4.00833672e-291]\n",
      " [            nan             nan             nan ...             nan\n",
      "  3.24924770e-297 3.82525393e-296]\n",
      " ...\n",
      " [0.00000000e+000 0.00000000e+000 0.00000000e+000 ... 0.00000000e+000\n",
      "  0.00000000e+000 0.00000000e+000]\n",
      " [0.00000000e+000 0.00000000e+000 0.00000000e+000 ... 0.00000000e+000\n",
      "  0.00000000e+000 0.00000000e+000]\n",
      " [0.00000000e+000 0.00000000e+000 0.00000000e+000 ... 0.00000000e+000\n",
      "  0.00000000e+000 0.00000000e+000]] float64 <class 'numpy.ndarray'>\n"
     ]
    }
   ],
   "source": [
    "arr_empty=np.empty((100,100))\n",
    "print(arr_empty, arr_empty.dtype, type(arr_empty))"
   ]
  },
  {
   "cell_type": "code",
   "execution_count": 27,
   "metadata": {},
   "outputs": [
    {
     "name": "stdout",
     "output_type": "stream",
     "text": [
      "list: [[1, 2, 3], [4, 5, 6]]\n",
      "array: [[1 2 3]\n",
      " [4 5 6]]\n",
      "1 [1, 2]\n",
      "1 [1 2]\n"
     ]
    }
   ],
   "source": [
    "dummy_list=[[1,2,3],[4,5,6]]\n",
    "print(\"list:\", dummy_list)\n",
    "print(\"array:\", arr_int)\n",
    "\n",
    "print(dummy_list[0][0], dummy_list[0][:2])\n",
    "print(arr_int[0,0], arr_int[0,:2])\n",
    "#print(arr_int[::-1])"
   ]
  },
  {
   "cell_type": "code",
   "execution_count": 29,
   "metadata": {},
   "outputs": [
    {
     "name": "stdout",
     "output_type": "stream",
     "text": [
      "num of dimens: 2\n",
      "total items: 6\n"
     ]
    }
   ],
   "source": [
    "#ndim and size of ndaray\n",
    "print(\"num of dimens:\", arr_int.ndim)\n",
    "#print(\"num of dim:\", arr3_int.ndim)\n",
    "print(\"total items:\", arr_int.size)"
   ]
  },
  {
   "cell_type": "code",
   "execution_count": 30,
   "metadata": {},
   "outputs": [
    {
     "name": "stdout",
     "output_type": "stream",
     "text": [
      "b4 flatte: [[1 2 3]\n",
      " [4 5 6]]\n",
      "after flatten [1 2 3 4 5 6]\n"
     ]
    }
   ],
   "source": [
    "#flatten\n",
    "print(\"b4 flatte:\", arr_int)\n",
    "print(\"after flatten\", arr_int.flatten())"
   ]
  },
  {
   "cell_type": "code",
   "execution_count": 38,
   "metadata": {},
   "outputs": [
    {
     "name": "stdout",
     "output_type": "stream",
     "text": [
      "[[ 1  2  3]\n",
      " [ 4  5  6]\n",
      " [10 11 12]]\n",
      "[[ 1  2  3 10]\n",
      " [ 4  5  6 11]]\n"
     ]
    }
   ],
   "source": [
    "#append, concatenate and delete\n",
    "print(np.append(arr_int,[[10,11,12]], axis=0))\n",
    "#ambil axis ke 0 \n",
    "\n",
    "print(np.append(arr_int,[[10],[11]], axis=1))\n",
    "print "
   ]
  },
  {
   "cell_type": "code",
   "execution_count": 44,
   "metadata": {},
   "outputs": [
    {
     "name": "stdout",
     "output_type": "stream",
     "text": [
      "[[[1.  2. ]\n",
      "  [3.  4. ]\n",
      "  [0.1 0.2]]\n",
      "\n",
      " [[5.  6. ]\n",
      "  [7.  8. ]\n",
      "  [0.3 0.4]]]\n",
      "[[1.  2.  3.  4. ]\n",
      " [0.1 0.2 5.  6. ]\n",
      " [7.  8.  0.3 0.4]]\n"
     ]
    }
   ],
   "source": [
    "#reshape\n",
    "print(arr3d_int)\n",
    "print(np.reshape(arr3d_int,(3,4)))"
   ]
  },
  {
   "cell_type": "code",
   "execution_count": 40,
   "metadata": {},
   "outputs": [
    {
     "name": "stdout",
     "output_type": "stream",
     "text": [
      "[0.1 0.2 0.3 0.4]\n",
      "type: <class 'numpy.ndarray'> shape: (4,)\n",
      "axis 0: 4\n",
      "4\n",
      "[[[1.  2. ]\n",
      "  [3.  4. ]\n",
      "  [0.1 0.2]]\n",
      "\n",
      " [[5.  6. ]\n",
      "  [7.  8. ]\n",
      "  [0.3 0.4]]]\n",
      "type: <class 'numpy.ndarray'> shape: (2, 3, 2)\n",
      "axis 0: 2 axis 0: 3 axis 0: 2\n",
      "2\n"
     ]
    }
   ],
   "source": [
    "arr1d_float = np.array([.1, .2, .3, .4])\n",
    "print(arr1d_float)\n",
    "print( \"type:\", type(arr1d_float), \"shape:\", arr1d_float.shape)\n",
    "print(\"axis 0:\", arr1d_float.shape[0])\n",
    "print(len(arr1d_float))\n",
    "\n",
    "arr3d_int = np.array([[[1, 2], [3, 4], [.1, .2]], [[5, 6], [7, 8], [.3, .4]]])\n",
    "print(arr3d_int)\n",
    "print( \"type:\", type(arr3d_int), \"shape:\", arr3d_int.shape)\n",
    "print(\n",
    "    \"axis 0:\", arr3d_int.shape[0],\n",
    "    \"axis 0:\", arr3d_int.shape[1],\n",
    "    \"axis 0:\", arr3d_int.shape[2]\n",
    ")\n",
    "print(len(arr3d_int))\n"
   ]
  },
  {
   "cell_type": "code",
   "execution_count": 47,
   "metadata": {},
   "outputs": [
    {
     "name": "stdout",
     "output_type": "stream",
     "text": [
      "[[1.  2. ]\n",
      " [3.  4. ]\n",
      " [0.1 0.2]\n",
      " [5.  6. ]\n",
      " [7.  8. ]\n",
      " [0.3 0.4]\n",
      " [1.  2. ]]\n"
     ]
    }
   ],
   "source": [
    "print(np.resize(arr3d_int,(7,2)))"
   ]
  },
  {
   "cell_type": "code",
   "execution_count": 48,
   "metadata": {},
   "outputs": [
    {
     "data": {
      "text/plain": [
       "Ellipsis"
      ]
     },
     "execution_count": 48,
     "metadata": {},
     "output_type": "execute_result"
    }
   ],
   "source": [
    "..."
   ]
  },
  {
   "cell_type": "code",
   "execution_count": 55,
   "metadata": {},
   "outputs": [
    {
     "name": "stdout",
     "output_type": "stream",
     "text": [
      "[[0.1]\n",
      " [0.2]\n",
      " [0.3]\n",
      " [0.4]] (4, 1)\n",
      "[[0.1 0.2 0.3 0.4]]\n"
     ]
    }
   ],
   "source": [
    "arr2d_float=arr1d_float[:, np.newaxis]\n",
    "print(arr2d_float, arr2d_float.shape)\n",
    "print(arr1d_float[None])"
   ]
  },
  {
   "cell_type": "code",
   "execution_count": 56,
   "metadata": {},
   "outputs": [
    {
     "name": "stdout",
     "output_type": "stream",
     "text": [
      "[[1 2 3]\n",
      " [4 5 6]]\n"
     ]
    }
   ],
   "source": [
    "print(arr_int)"
   ]
  },
  {
   "cell_type": "code",
   "execution_count": 57,
   "metadata": {},
   "outputs": [
    {
     "name": "stdout",
     "output_type": "stream",
     "text": [
      "[[1 4]\n",
      " [2 5]\n",
      " [3 6]]\n"
     ]
    }
   ],
   "source": [
    "print(arr_int.T)\n",
    "print(arr_int.reshape)"
   ]
  },
  {
   "cell_type": "code",
   "execution_count": 59,
   "metadata": {},
   "outputs": [
    {
     "name": "stdout",
     "output_type": "stream",
     "text": [
      "[[ 2  4  6]\n",
      " [ 8 10 12]]\n"
     ]
    }
   ],
   "source": [
    "print(arr_int+arr_int)\n"
   ]
  },
  {
   "cell_type": "code",
   "execution_count": 63,
   "metadata": {},
   "outputs": [
    {
     "name": "stdout",
     "output_type": "stream",
     "text": [
      "[[0.3333 0.6667 1.    ]\n",
      " [1.3333 1.6667 2.    ]]\n"
     ]
    }
   ],
   "source": [
    "print(np.round(arr_int/3, decimals=4))"
   ]
  },
  {
   "cell_type": "code",
   "execution_count": 66,
   "metadata": {},
   "outputs": [
    {
     "name": "stdout",
     "output_type": "stream",
     "text": [
      "[ 6 15]\n",
      "[[21]]\n"
     ]
    }
   ],
   "source": [
    "print(arr_int.sum(axis=1)) #turun jumlahnya\n",
    "print(arr_int.sum(keepdims=True))"
   ]
  },
  {
   "cell_type": "code",
   "execution_count": 68,
   "metadata": {},
   "outputs": [
    {
     "ename": "AttributeError",
     "evalue": "module 'numpy.random' has no attribute 'radint'",
     "output_type": "error",
     "traceback": [
      "\u001b[1;31m---------------------------------------------------------------------------\u001b[0m",
      "\u001b[1;31mAttributeError\u001b[0m                            Traceback (most recent call last)",
      "\u001b[1;32m<ipython-input-68-ffef5d22285a>\u001b[0m in \u001b[0;36m<module>\u001b[1;34m\u001b[0m\n\u001b[0;32m      1\u001b[0m \u001b[0mnp\u001b[0m\u001b[1;33m.\u001b[0m\u001b[0mrandom\u001b[0m\u001b[1;33m.\u001b[0m\u001b[0mseed\u001b[0m\u001b[1;33m(\u001b[0m\u001b[1;36m999\u001b[0m\u001b[1;33m)\u001b[0m\u001b[1;33m\u001b[0m\u001b[1;33m\u001b[0m\u001b[0m\n\u001b[1;32m----> 2\u001b[1;33m \u001b[0mprint\u001b[0m\u001b[1;33m(\u001b[0m\u001b[0mnp\u001b[0m\u001b[1;33m.\u001b[0m\u001b[0mrandom\u001b[0m\u001b[1;33m.\u001b[0m\u001b[0mradint\u001b[0m\u001b[1;33m(\u001b[0m\u001b[1;36m10\u001b[0m\u001b[1;33m,\u001b[0m\u001b[0msize\u001b[0m\u001b[1;33m=\u001b[0m\u001b[1;33m(\u001b[0m\u001b[1;36m2\u001b[0m\u001b[1;33m,\u001b[0m\u001b[1;36m3\u001b[0m\u001b[1;33m)\u001b[0m\u001b[1;33m)\u001b[0m\u001b[1;33m)\u001b[0m\u001b[1;33m\u001b[0m\u001b[1;33m\u001b[0m\u001b[0m\n\u001b[0m",
      "\u001b[1;31mAttributeError\u001b[0m: module 'numpy.random' has no attribute 'radint'"
     ]
    }
   ],
   "source": [
    "np.random.seed(999)"
   ]
  },
  {
   "cell_type": "code",
   "execution_count": null,
   "metadata": {},
   "outputs": [],
   "source": []
  }
 ],
 "metadata": {
  "kernelspec": {
   "display_name": "Python 3",
   "language": "python",
   "name": "python3"
  },
  "language_info": {
   "codemirror_mode": {
    "name": "ipython",
    "version": 3
   },
   "file_extension": ".py",
   "mimetype": "text/x-python",
   "name": "python",
   "nbconvert_exporter": "python",
   "pygments_lexer": "ipython3",
   "version": "3.8.5"
  }
 },
 "nbformat": 4,
 "nbformat_minor": 4
}
